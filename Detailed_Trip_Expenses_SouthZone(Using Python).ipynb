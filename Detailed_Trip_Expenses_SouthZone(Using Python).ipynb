{
 "cells": [
  {
   "cell_type": "code",
   "execution_count": 1,
   "id": "cd94c61e",
   "metadata": {},
   "outputs": [
    {
     "name": "stdout",
     "output_type": "stream",
     "text": [
      "Detailed CSV saved as 'Expenses_in_SouthZone_Detailed.csv'\n"
     ]
    }
   ],
   "source": [
    "import pandas as pd  # Import pandas library\n",
    "\n",
    "# Define detailed expenses data\n",
    "data = {\n",
    "    \"Item\": [\n",
    "        'Local Transport', 'Rail Fare', 'Recharge', 'Juice', 'Coffee', 'Earphones',\n",
    "        'Charity Donation', 'Accommodation', 'Service Fee', 'Bus Ticket Local',\n",
    "        'Personal Supplies', 'Bus Ticket Zone A', 'Snacks for Kids', 'Personal Support', 'Bus Ticket Zone B',\n",
    "        'Gift', 'Bus Ticket Capital', 'Stationery', 'Personal Support',\n",
    "        'Cash on Hand', 'Online Payment Balance'\n",
    "    ],\n",
    "    \"Amount\": [\n",
    "        130, 10, 43, 40, 20, 100, 20, 1000, 30, 56, 220,\n",
    "        36, 100, 500, 122, 900, 76, 2, 100, 100, 185\n",
    "    ],\n",
    "    \"Expense Type\": [\n",
    "        'Transport', 'Transport', 'Other', 'Food', 'Food', 'Other', 'Other',\n",
    "        'Transport', 'Other', 'Transport', 'Personal', 'Transport', 'Personal',\n",
    "        'Personal', 'Personal', 'Transport', 'Personal', 'Transport', 'Other',\n",
    "        'Personal', 'Other'\n",
    "    ],\n",
    "    \"Payment Method\": [\n",
    "        'Price', 'Price', 'Online', 'Price', 'Price', 'Price', 'Price',\n",
    "        'Price & Online', 'Price', 'Price', 'Price', 'Price', 'Price',\n",
    "        'Price', 'Price', 'Price', 'Price', 'Price', 'Price', 'Price', 'Online'\n",
    "    ]\n",
    "}\n",
    "\n",
    "# Create a DataFrame from the data\n",
    "df = pd.DataFrame(data)\n",
    "\n",
    "# Calculate total spent\n",
    "total_spent = df[\"Amount\"].sum()\n",
    "\n",
    "# Calculate remaining balance assuming 4000 budget\n",
    "remaining = 4000 - total_spent\n",
    "\n",
    "# Add summary rows for total spent and remaining balance\n",
    "summary = pd.DataFrame([\n",
    "    {\"Item\": \"Total Spent\", \"Price\": total_spent, \"Expense Type\": \"\", \"Payment Method\": \"\"},\n",
    "    {\"Item\": \"Remaining\", \"Price\": remaining, \"Expense Type\": \"\", \"Payment Method\": \"\"}\n",
    "])\n",
    "\n",
    "# Append summary rows to the original DataFrame\n",
    "df = pd.concat([df, summary], ignore_index=True)\n",
    "\n",
    "# Save the updated DataFrame to a CSV file\n",
    "df.to_csv(\"Expenses_in_SouthZone_Detailed.csv\", index=False)\n",
    "\n",
    "# Print confirmation message\n",
    "print(\"Detailed CSV saved as 'Expenses_in_SouthZone_Detailed.csv'\")\n"
   ]
  }
 ],
 "metadata": {
  "kernelspec": {
   "display_name": "Python 3",
   "language": "python",
   "name": "python3"
  },
  "language_info": {
   "codemirror_mode": {
    "name": "ipython",
    "version": 3
   },
   "file_extension": ".py",
   "mimetype": "text/x-python",
   "name": "python",
   "nbconvert_exporter": "python",
   "pygments_lexer": "ipython3",
   "version": "3.12.9"
  }
 },
 "nbformat": 4,
 "nbformat_minor": 5
}
